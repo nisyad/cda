{
 "cells": [
  {
   "cell_type": "code",
   "execution_count": 2,
   "metadata": {},
   "outputs": [],
   "source": [
    "import os\n",
    "import time\n",
    "import numpy as np\n",
    "import matplotlib.pyplot as plt\n",
    "\n",
    "import torch\n",
    "import torch.nn as nn\n",
    "import torch.nn.functional as F\n",
    "import torch.optim as optim\n",
    "from torch.utils.data import Dataset, DataLoader\n",
    "from torchvision import datasets, transforms, models\n",
    "\n",
    "from sklearn.manifold import TSNE\n"
   ]
  },
  {
   "cell_type": "code",
   "execution_count": 20,
   "metadata": {},
   "outputs": [],
   "source": [
    "def contrastive_loss(e1, e2, tau=1.0):\n",
    "\n",
    "    e1 = F.normalize(e1, dim=1)\n",
    "    e2 = F.normalize(e2, dim=1)\n",
    "\n",
    "    e12 = torch.cat((e1, e2), dim=0)\n",
    "\n",
    "    similarity_matrix = torch.mm(e12, e12.T)\n",
    "\n",
    "    N = e1.shape[0]  # batch size\n",
    "    loss = 0.0\n",
    "\n",
    "    for i in range(N):\n",
    "        loss += l_ij(i, i + N, similarity_matrix) + l_ij(\n",
    "            i + N, i, similarity_matrix)\n",
    "\n",
    "    return loss / (2 * N)\n",
    "\n",
    "\n",
    "def l_ij(i, j, similarity_matrix, tau=1.0):\n",
    "\n",
    "    sim_ij = similarity_matrix[i, j]\n",
    "\n",
    "    numerator = torch.exp(sim_ij / tau)\n",
    "    denominator = torch.exp(similarity_matrix[i] / tau).sum() - torch.exp(\n",
    "        similarity_matrix[i, i] / tau)\n",
    "\n",
    "    return -1 * torch.log(numerator / denominator)\n"
   ]
  },
  {
   "cell_type": "code",
   "execution_count": 87,
   "metadata": {},
   "outputs": [
    {
     "name": "stdout",
     "output_type": "stream",
     "text": [
      "CPU times: user 1.81 ms, sys: 5.31 ms, total: 7.12 ms\n",
      "Wall time: 7.46 ms\n"
     ]
    },
    {
     "data": {
      "text/plain": [
       "tensor(1.1327)"
      ]
     },
     "execution_count": 87,
     "metadata": {},
     "output_type": "execute_result"
    }
   ],
   "source": [
    "%%time\n",
    "I = torch.tensor([[1.0, 2.0], [3.0, -2.0], [1.0, 5.0]])\n",
    "# I = torch.rand(10000, 100)\n",
    "J = torch.tensor([[1.0, 0.75], [2.8, -1.75], [1.0, 4.7]])\n",
    "# J = torch.rand(10000, 100)\n",
    "loss = contrastive_loss(I, J)\n",
    "loss"
   ]
  },
  {
   "cell_type": "code",
   "execution_count": 88,
   "metadata": {},
   "outputs": [
    {
     "name": "stdout",
     "output_type": "stream",
     "text": [
      "CPU times: user 1.54 ms, sys: 1.49 ms, total: 3.03 ms\n",
      "Wall time: 1.89 ms\n"
     ]
    },
    {
     "data": {
      "text/plain": [
       "tensor(1.1327)"
      ]
     },
     "execution_count": 88,
     "metadata": {},
     "output_type": "execute_result"
    }
   ],
   "source": [
    "%%time\n",
    "# Vectorized contrastive loss\n",
    "\n",
    "\n",
    "def contrastive_loss_vectorized(e1, e2, tau=1.0):\n",
    "\n",
    "    e1 = F.normalize(e1, dim=1)\n",
    "    e2 = F.normalize(e2, dim=1)\n",
    "\n",
    "    e12 = torch.cat((e1, e2), dim=0)\n",
    "    n_sample = e12.shape[0]  # 2N samples\n",
    "\n",
    "    similarity_matrix = torch.exp(torch.mm(e12, e12.T) / tau)\n",
    "\n",
    "    # Negative similarity\n",
    "    mask = ~torch.eye(n_sample).bool()\n",
    "    negative_sim = similarity_matrix.masked_select(mask).view(n_sample,\n",
    "                                                              -1).sum(dim=-1)\n",
    "    # Positive similarity\n",
    "    positive_sim = torch.exp(torch.sum(e1 * e2, dim=-1) / tau)\n",
    "    positive_sim = torch.cat((positive_sim, positive_sim), dim=0)\n",
    "\n",
    "    return -torch.log(positive_sim / negative_sim).mean()\n",
    "\n",
    "\n",
    "contrastive_loss_vectorized(I, J).mean()\n"
   ]
  },
  {
   "cell_type": "markdown",
   "metadata": {},
   "source": [
    "## Pytorch Lighntning Implementation"
   ]
  },
  {
   "cell_type": "code",
   "execution_count": 1,
   "metadata": {},
   "outputs": [
    {
     "ename": "ImportError",
     "evalue": "cannot import name 'resnet50_bn' from 'pl_bolts.models.self_supervised.resnets' (/Users/nishant/opt/miniconda3/envs/ptlite/lib/python3.9/site-packages/pl_bolts/models/self_supervised/resnets.py)",
     "output_type": "error",
     "traceback": [
      "\u001b[0;31m---------------------------------------------------------------------------\u001b[0m",
      "\u001b[0;31mImportError\u001b[0m                               Traceback (most recent call last)",
      "\u001b[0;32m/var/folders/ry/r59881ld2h786q94l3jcjh0w0000gn/T/ipykernel_23713/1188412893.py\u001b[0m in \u001b[0;36m<module>\u001b[0;34m\u001b[0m\n\u001b[1;32m     13\u001b[0m \u001b[0;32mfrom\u001b[0m \u001b[0mpytorch_lightning\u001b[0m\u001b[0;34m.\u001b[0m\u001b[0mcallbacks\u001b[0m \u001b[0;32mimport\u001b[0m \u001b[0mLearningRateMonitor\u001b[0m\u001b[0;34m\u001b[0m\u001b[0;34m\u001b[0m\u001b[0m\n\u001b[1;32m     14\u001b[0m \u001b[0;34m\u001b[0m\u001b[0m\n\u001b[0;32m---> 15\u001b[0;31m \u001b[0;32mfrom\u001b[0m \u001b[0mpl_bolts\u001b[0m\u001b[0;34m.\u001b[0m\u001b[0mmodels\u001b[0m\u001b[0;34m.\u001b[0m\u001b[0mself_supervised\u001b[0m\u001b[0;34m.\u001b[0m\u001b[0mresnets\u001b[0m \u001b[0;32mimport\u001b[0m \u001b[0mresnet50_bn\u001b[0m\u001b[0;34m\u001b[0m\u001b[0;34m\u001b[0m\u001b[0m\n\u001b[0m\u001b[1;32m     16\u001b[0m \u001b[0;32mfrom\u001b[0m \u001b[0mpl_bolts\u001b[0m\u001b[0;34m.\u001b[0m\u001b[0moptimizers\u001b[0m\u001b[0;34m.\u001b[0m\u001b[0mlr_scheduler\u001b[0m \u001b[0;32mimport\u001b[0m \u001b[0mLinearWarmupCosineAnnealingLR\u001b[0m\u001b[0;34m\u001b[0m\u001b[0;34m\u001b[0m\u001b[0m\n\u001b[1;32m     17\u001b[0m \u001b[0;32mfrom\u001b[0m \u001b[0mpl_bolts\u001b[0m\u001b[0;34m.\u001b[0m\u001b[0mdatamodules\u001b[0m \u001b[0;32mimport\u001b[0m \u001b[0mCIFAR10DataModule\u001b[0m\u001b[0;34m,\u001b[0m \u001b[0mSTL10DataModule\u001b[0m\u001b[0;34m,\u001b[0m \u001b[0mImagenetDataModule\u001b[0m\u001b[0;34m\u001b[0m\u001b[0;34m\u001b[0m\u001b[0m\n",
      "\u001b[0;31mImportError\u001b[0m: cannot import name 'resnet50_bn' from 'pl_bolts.models.self_supervised.resnets' (/Users/nishant/opt/miniconda3/envs/ptlite/lib/python3.9/site-packages/pl_bolts/models/self_supervised/resnets.py)"
     ]
    }
   ],
   "source": [
    "# import cv2\n",
    "import numpy as np\n",
    "from typing import Optional\n",
    "\n",
    "import torch\n",
    "from torch import nn\n",
    "from torch.nn import functional as F\n",
    "import torchvision.transforms as transforms\n",
    "from torch.optim import Adam\n",
    "\n",
    "import pytorch_lightning as pl\n",
    "from pytorch_lightning.callbacks import ModelCheckpoint\n",
    "from pytorch_lightning.callbacks import LearningRateMonitor\n",
    "\n",
    "from pl_bolts.models.self_supervised.resnets import resnet50_bn\n",
    "from pl_bolts.optimizers.lr_scheduler import LinearWarmupCosineAnnealingLR\n",
    "from pl_bolts.datamodules import CIFAR10DataModule, STL10DataModule, ImagenetDataModule\n",
    "from pl_bolts.metrics import mean, accuracy\n",
    "\n",
    "from pl_bolts.models.self_supervised.evaluator import Flatten\n",
    "from pl_bolts.transforms.dataset_normalizations import cifar10_normalization, stl10_normalization\n",
    "from pl_bolts.transforms.dataset_normalizations import imagenet_normalization\n",
    "from pl_bolts.optimizers import LARSWrapper"
   ]
  },
  {
   "cell_type": "code",
   "execution_count": 1,
   "metadata": {},
   "outputs": [],
   "source": [
    "def add_two_numbers(x, y):\n",
    "    return x + y\n",
    "\n"
   ]
  },
  {
   "cell_type": "code",
   "execution_count": null,
   "metadata": {},
   "outputs": [],
   "source": []
  },
  {
   "cell_type": "code",
   "execution_count": null,
   "metadata": {},
   "outputs": [],
   "source": []
  }
 ],
 "metadata": {
  "interpreter": {
   "hash": "7936bb061d17dfd67a9bb7952b3ebed363d9d93f52452ce7886dd0f53efbb7f9"
  },
  "kernelspec": {
   "display_name": "Python 3.9.7 64-bit ('ptlite': conda)",
   "name": "python3"
  },
  "language_info": {
   "codemirror_mode": {
    "name": "ipython",
    "version": 3
   },
   "file_extension": ".py",
   "mimetype": "text/x-python",
   "name": "python",
   "nbconvert_exporter": "python",
   "pygments_lexer": "ipython3",
   "version": "3.9.7"
  },
  "orig_nbformat": 4
 },
 "nbformat": 4,
 "nbformat_minor": 2
}
